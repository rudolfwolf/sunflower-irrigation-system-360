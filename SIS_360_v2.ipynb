{
  "cells": [
    {
      "cell_type": "code",
      "execution_count": null,
      "metadata": {
        "colab": {
          "base_uri": "https://localhost:8080/"
        },
        "id": "4UdYHZ16g53u",
        "outputId": "7cac8191-b2f8-431a-f963-0743ecc348d9"
      },
      "outputs": [
        {
          "output_type": "stream",
          "name": "stdout",
          "text": [
            "Drive already mounted at /content/drive; to attempt to forcibly remount, call drive.mount(\"/content/drive\", force_remount=True).\n"
          ]
        }
      ],
      "source": [
        "#establecemos  la conexion a drive para poder cargar los datos y guardar el modelo y el peso\n",
        "from google.colab import drive\n",
        "drive.mount('/content/drive')"
      ]
    },
    {
      "cell_type": "code",
      "execution_count": null,
      "metadata": {
        "colab": {
          "base_uri": "https://localhost:8080/"
        },
        "id": "oepNC6DECfbn",
        "outputId": "ee46ab47-37d5-4c11-ce7d-01bf79384bb8"
      },
      "outputs": [
        {
          "output_type": "stream",
          "name": "stdout",
          "text": [
            "Looking in indexes: https://pypi.org/simple, https://us-python.pkg.dev/colab-wheels/public/simple/\n",
            "Requirement already satisfied: tensorflow-addons in /usr/local/lib/python3.8/dist-packages (0.19.0)\n",
            "Requirement already satisfied: typeguard>=2.7 in /usr/local/lib/python3.8/dist-packages (from tensorflow-addons) (2.7.1)\n",
            "Requirement already satisfied: packaging in /usr/local/lib/python3.8/dist-packages (from tensorflow-addons) (23.0)\n"
          ]
        }
      ],
      "source": [
        "!pip install tensorflow-addons\n"
      ]
    },
    {
      "cell_type": "code",
      "execution_count": null,
      "metadata": {
        "id": "2sNeKlYFh1wD"
      },
      "outputs": [],
      "source": [
        "#librerias necesarias para que funciones la CNN\n",
        "import sys\n",
        "import os\n",
        "from keras.preprocessing.image import ImageDataGenerator  \n",
        "from keras.layers import Dropout\n",
        "from keras import backend as K\n",
        "from keras import optimizers\n",
        "from keras.models import Sequential\n",
        "from keras.layers import Activation, Dense, MaxPooling2D, Convolution2D, Flatten, Dropout\n",
        "import tensorflow as tf\n",
        "import tensorflow_addons as tfa\n",
        "from tensorflow import keras\n",
        "\n",
        "#declaramos los optimizadores a usar \n",
        "radam = tfa.optimizers.RectifiedAdam()\n",
        "ranger = tfa.optimizers.Lookahead(radam, sync_period=6, slow_step_size=0.5)"
      ]
    },
    {
      "cell_type": "code",
      "source": [
        "device_list = tf.test.gpu_device_name()"
      ],
      "metadata": {
        "id": "xOK_wKwPsu4C"
      },
      "execution_count": null,
      "outputs": []
    },
    {
      "cell_type": "code",
      "source": [
        "device_list"
      ],
      "metadata": {
        "id": "JTNn8A-_s7sk",
        "colab": {
          "base_uri": "https://localhost:8080/",
          "height": 36
        },
        "outputId": "e557a2e1-b75a-44ea-a202-93f17cbbe930"
      },
      "execution_count": null,
      "outputs": [
        {
          "output_type": "execute_result",
          "data": {
            "text/plain": [
              "'/device:GPU:0'"
            ],
            "application/vnd.google.colaboratory.intrinsic+json": {
              "type": "string"
            }
          },
          "metadata": {},
          "execution_count": 5
        }
      ]
    },
    {
      "cell_type": "code",
      "source": [
        "if device_list != '/device:GPU:0':\n",
        "  raise SystemError('GPU device not found')\n",
        "print ('Found GPU at: {}'.format(device_list))"
      ],
      "metadata": {
        "id": "7JSGZgDEtD1N",
        "colab": {
          "base_uri": "https://localhost:8080/"
        },
        "outputId": "c1627d27-1764-448a-ef40-c6503160916c"
      },
      "execution_count": null,
      "outputs": [
        {
          "output_type": "stream",
          "name": "stdout",
          "text": [
            "Found GPU at: /device:GPU:0\n"
          ]
        }
      ]
    },
    {
      "cell_type": "code",
      "execution_count": null,
      "metadata": {
        "id": "2aLrpcMM60ds"
      },
      "outputs": [],
      "source": [
        "#funciones para las métricas  que vamos a usar \n",
        "\n",
        "def recall_m(y_true, y_pred):\n",
        "    true_positives = K.sum(K.round(K.clip(y_true * y_pred, 0, 1)))\n",
        "    possible_positives = K.sum(K.round(K.clip(y_true, 0, 1)))\n",
        "    recall = true_positives / (possible_positives + K.epsilon())\n",
        "    return recall\n",
        "\n",
        "def precision_m(y_true, y_pred):\n",
        "    true_positives = K.sum(K.round(K.clip(y_true * y_pred, 0, 1)))\n",
        "    predicted_positives = K.sum(K.round(K.clip(y_pred, 0, 1)))\n",
        "    precision = true_positives / (predicted_positives + K.epsilon())\n",
        "    return precision\n",
        "\n",
        "def f1_m(y_true, y_pred):\n",
        "    precision = precision_m(y_true, y_pred)\n",
        "    recall = recall_m(y_true, y_pred)\n",
        "    return 2*((precision*recall)/(precision+recall+K.epsilon()))\n"
      ]
    },
    {
      "cell_type": "code",
      "execution_count": null,
      "metadata": {
        "id": "D3DeWlESh6U7"
      },
      "outputs": [],
      "source": [
        "# aqui matamos/ cerramos la sesión en caso de que estuviese trabajando en segundo plano\n",
        "K.clear_session()"
      ]
    },
    {
      "cell_type": "code",
      "execution_count": null,
      "metadata": {
        "id": "WWjV4QnJh-kR"
      },
      "outputs": [],
      "source": [
        "#cargamos los set de datos \n",
        "data_entrenamiento = ('/content/drive/MyDrive/SIS360/entrenamiento')\n",
        "data_validacion = ('/content/drive/MyDrive/SIS360/validacion')"
      ]
    },
    {
      "cell_type": "code",
      "execution_count": null,
      "metadata": {
        "id": "YfoPG7Efi0W8"
      },
      "outputs": [],
      "source": [
        "# variables con las que vamos a trabajar para poder entrenar la CNN\n",
        "epocas= 55\n",
        "longitud, altura = 150, 150\n",
        "batch_size = 32\n",
        "pasos_validacion = 300\n",
        "clases = 4\n",
        "learning_rate = 0.0005"
      ]
    },
    {
      "cell_type": "code",
      "execution_count": null,
      "metadata": {
        "id": "v1b2ZH5mkJ9G"
      },
      "outputs": [],
      "source": [
        "# establecemos como vamos a trabajar para poder manipular las imagenes\n",
        "entrenamiento_datagen = ImageDataGenerator(\n",
        "    rescale=1. / 255,\n",
        "    shear_range=0.3,\n",
        "    zoom_range=0.3,\n",
        "    horizontal_flip=True)"
      ]
    },
    {
      "cell_type": "code",
      "execution_count": null,
      "metadata": {
        "colab": {
          "base_uri": "https://localhost:8080/"
        },
        "id": "kWEk2dfnkLG5",
        "outputId": "282b70e6-98c5-4acb-8ea0-c89ebbc6dd33"
      },
      "outputs": [
        {
          "output_type": "stream",
          "name": "stdout",
          "text": [
            "Found 2861 images belonging to 4 classes.\n"
          ]
        }
      ],
      "source": [
        "# establecemos el como va cargar los datos y el modo de clase con el que vamos a entrenar \n",
        "validacion_datagen = ImageDataGenerator(rescale=1. / 255)\n",
        "\n",
        "imagen_entrenamiento = entrenamiento_datagen.flow_from_directory(\n",
        "    data_entrenamiento,\n",
        "    target_size=(altura, longitud),\n",
        "    batch_size = batch_size,\n",
        "    class_mode= 'categorical' \n",
        ")"
      ]
    },
    {
      "cell_type": "code",
      "execution_count": null,
      "metadata": {
        "colab": {
          "base_uri": "https://localhost:8080/"
        },
        "id": "wrVw7aFJkQ-H",
        "outputId": "d3c4060a-919e-405c-ca1b-b47ff74097c7"
      },
      "outputs": [
        {
          "output_type": "stream",
          "name": "stdout",
          "text": [
            "Found 466 images belonging to 4 classes.\n"
          ]
        }
      ],
      "source": [
        "# lo mismo que el anterior pero para los datos de validación \n",
        "imagen_validacion = validacion_datagen.flow_from_directory(\n",
        "    data_validacion,\n",
        "    target_size = (altura, longitud),\n",
        "    batch_size= batch_size,\n",
        "    class_mode= 'categorical'\n",
        ")"
      ]
    },
    {
      "cell_type": "code",
      "execution_count": null,
      "metadata": {
        "id": "GiRQXyPwkU2v"
      },
      "outputs": [],
      "source": [
        "# empezamos a trabajar con las convoluciones cargando parametros \n",
        "\n",
        "cnn = Sequential()\n",
        "\n",
        "cnn.add(keras.layers.Conv2D(\n",
        "            512,\n",
        "            (3, 3),\n",
        "            padding=\"same\", input_shape=(longitud, altura, 3),\n",
        "            activation=keras.layers.LeakyReLU()\n",
        "        ))\n",
        "\n",
        "\n",
        "cnn.add(keras.layers.BatchNormalization())\n",
        "cnn.add(keras.layers.AveragePooling2D())\n",
        "\n",
        "cnn.add(keras.layers.Conv2D(\n",
        "            256,\n",
        "            (3, 3),\n",
        "            padding=\"same\", input_shape=(longitud, altura, 3),\n",
        "            activation=keras.layers.LeakyReLU()\n",
        "        ))\n",
        "\n",
        "cnn.add(keras.layers.BatchNormalization())\n",
        "cnn.add(keras.layers.AveragePooling2D())\n",
        "\n",
        "cnn.add(Flatten())\n",
        "cnn.add(keras.layers.BatchNormalization())\n",
        "cnn.add(keras.layers.Dense(512, activation=keras.layers.LeakyReLU()))\n",
        "cnn.add(keras.layers.BatchNormalization())\n",
        "cnn.add(keras.layers.Dense(256, activation=keras.layers.LeakyReLU()))\n",
        "cnn.add(keras.layers.BatchNormalization())\n",
        "cnn.add(Dropout(0.4))\n",
        "cnn.add(Dense(clases, activation='softmax'))\n"
      ]
    },
    {
      "cell_type": "code",
      "execution_count": null,
      "metadata": {
        "colab": {
          "base_uri": "https://localhost:8080/"
        },
        "id": "-Da8yQqWkdv5",
        "outputId": "22d1902f-bebc-4742-9634-3aadbf042499"
      },
      "outputs": [
        {
          "output_type": "stream",
          "name": "stdout",
          "text": [
            "Model: \"sequential\"\n",
            "_________________________________________________________________\n",
            " Layer (type)                Output Shape              Param #   \n",
            "=================================================================\n",
            " conv2d (Conv2D)             (None, 150, 150, 512)     14336     \n",
            "                                                                 \n",
            " batch_normalization (BatchN  (None, 150, 150, 512)    2048      \n",
            " ormalization)                                                   \n",
            "                                                                 \n",
            " average_pooling2d (AverageP  (None, 75, 75, 512)      0         \n",
            " ooling2D)                                                       \n",
            "                                                                 \n",
            " conv2d_1 (Conv2D)           (None, 75, 75, 256)       1179904   \n",
            "                                                                 \n",
            " batch_normalization_1 (Batc  (None, 75, 75, 256)      1024      \n",
            " hNormalization)                                                 \n",
            "                                                                 \n",
            " average_pooling2d_1 (Averag  (None, 37, 37, 256)      0         \n",
            " ePooling2D)                                                     \n",
            "                                                                 \n",
            " flatten (Flatten)           (None, 350464)            0         \n",
            "                                                                 \n",
            " batch_normalization_2 (Batc  (None, 350464)           1401856   \n",
            " hNormalization)                                                 \n",
            "                                                                 \n",
            " dense (Dense)               (None, 512)               179438080 \n",
            "                                                                 \n",
            " batch_normalization_3 (Batc  (None, 512)              2048      \n",
            " hNormalization)                                                 \n",
            "                                                                 \n",
            " dense_1 (Dense)             (None, 256)               131328    \n",
            "                                                                 \n",
            " batch_normalization_4 (Batc  (None, 256)              1024      \n",
            " hNormalization)                                                 \n",
            "                                                                 \n",
            " dropout (Dropout)           (None, 256)               0         \n",
            "                                                                 \n",
            " dense_2 (Dense)             (None, 4)                 1028      \n",
            "                                                                 \n",
            "=================================================================\n",
            "Total params: 182,172,676\n",
            "Trainable params: 181,468,676\n",
            "Non-trainable params: 704,000\n",
            "_________________________________________________________________\n"
          ]
        }
      ],
      "source": [
        "#compila la cnn con los parametros establecidos y nos da el porcentaje de precisión\n",
        "cnn.compile(loss = 'categorical_crossentropy',\n",
        "            optimizer = ranger,\n",
        "            metrics = [\"accuracy\", f1_m, precision_m, recall_m])\n",
        "cnn.summary()\n",
        "\n",
        "\n"
      ]
    },
    {
      "cell_type": "code",
      "source": [
        "#entrenamos el algoritmo y lo alimentamos con el entrenamiento\n",
        "cnn.fit(\n",
        "    imagen_entrenamiento,\n",
        "    epochs=epocas,\n",
        "    validation_data=imagen_validacion,\n",
        "    validation_steps=pasos_validacion)"
      ],
      "metadata": {
        "id": "5ZfG2Hd7e8Db",
        "colab": {
          "base_uri": "https://localhost:8080/"
        },
        "outputId": "739905dd-8efa-4b54-ee72-c51ade81f3f8"
      },
      "execution_count": null,
      "outputs": [
        {
          "output_type": "stream",
          "name": "stdout",
          "text": [
            "Epoch 1/55\n",
            "90/90 [==============================] - ETA: 0s - loss: 1.4639 - accuracy: 0.5012 - f1_m: 0.4861 - precision_m: 0.5300 - recall_m: 0.4508"
          ]
        },
        {
          "output_type": "stream",
          "name": "stderr",
          "text": [
            "WARNING:tensorflow:Your input ran out of data; interrupting training. Make sure that your dataset or generator can generate at least `steps_per_epoch * epochs` batches (in this case, 300 batches). You may need to use the repeat() function when building your dataset.\n"
          ]
        },
        {
          "output_type": "stream",
          "name": "stdout",
          "text": [
            "\b\b\b\b\b\b\b\b\b\b\b\b\b\b\b\b\b\b\b\b\b\b\b\b\b\b\b\b\b\b\b\b\b\b\b\b\b\b\b\b\b\b\b\b\b\b\b\b\b\b\b\b\b\b\b\b\b\b\b\b\b\b\b\b\b\b\b\b\b\b\b\b\b\b\b\b\b\b\b\b\b\b\b\b\b\b\b\b\b\b\b\b\b\b\b\b\b\b\b\b\b\b\b\b\b\b\b\b\b\b\b\b\b\b\b\b\b\b\b\b\b\b\b\b\b\b\b\b\b\b\b\b\b\b\b\b\b\b\r90/90 [==============================] - 232s 2s/step - loss: 1.4639 - accuracy: 0.5012 - f1_m: 0.4861 - precision_m: 0.5300 - recall_m: 0.4508 - val_loss: 1.3328 - val_accuracy: 0.3155 - val_f1_m: 0.0000e+00 - val_precision_m: 0.0000e+00 - val_recall_m: 0.0000e+00\n",
            "Epoch 2/55\n",
            "90/90 [==============================] - 67s 743ms/step - loss: 1.0909 - accuracy: 0.5890 - f1_m: 0.5804 - precision_m: 0.6247 - recall_m: 0.5431\n",
            "Epoch 3/55\n",
            "90/90 [==============================] - 63s 699ms/step - loss: 1.0028 - accuracy: 0.6225 - f1_m: 0.6092 - precision_m: 0.6466 - recall_m: 0.5770\n",
            "Epoch 4/55\n",
            "90/90 [==============================] - 64s 703ms/step - loss: 0.9324 - accuracy: 0.6292 - f1_m: 0.6192 - precision_m: 0.6533 - recall_m: 0.5894\n",
            "Epoch 5/55\n",
            "90/90 [==============================] - 64s 707ms/step - loss: 0.8773 - accuracy: 0.6536 - f1_m: 0.6479 - precision_m: 0.6806 - recall_m: 0.6195\n",
            "Epoch 6/55\n",
            "90/90 [==============================] - 63s 698ms/step - loss: 0.8257 - accuracy: 0.6669 - f1_m: 0.6633 - precision_m: 0.6923 - recall_m: 0.6374\n",
            "Epoch 7/55\n",
            "90/90 [==============================] - 64s 713ms/step - loss: 0.8163 - accuracy: 0.6672 - f1_m: 0.6623 - precision_m: 0.6931 - recall_m: 0.6348\n",
            "Epoch 8/55\n",
            "90/90 [==============================] - 63s 692ms/step - loss: 0.7816 - accuracy: 0.6868 - f1_m: 0.6799 - precision_m: 0.7088 - recall_m: 0.6541\n",
            "Epoch 9/55\n",
            "90/90 [==============================] - 63s 701ms/step - loss: 0.7401 - accuracy: 0.7046 - f1_m: 0.6975 - precision_m: 0.7288 - recall_m: 0.6696\n",
            "Epoch 10/55\n",
            "90/90 [==============================] - 65s 725ms/step - loss: 0.7783 - accuracy: 0.6977 - f1_m: 0.6862 - precision_m: 0.7164 - recall_m: 0.6595\n",
            "Epoch 11/55\n",
            "90/90 [==============================] - 65s 719ms/step - loss: 0.6864 - accuracy: 0.7225 - f1_m: 0.7151 - precision_m: 0.7436 - recall_m: 0.6895\n",
            "Epoch 12/55\n",
            "90/90 [==============================] - 63s 701ms/step - loss: 0.6774 - accuracy: 0.7291 - f1_m: 0.7234 - precision_m: 0.7504 - recall_m: 0.6992\n",
            "Epoch 13/55\n",
            "90/90 [==============================] - 63s 696ms/step - loss: 0.6559 - accuracy: 0.7291 - f1_m: 0.7240 - precision_m: 0.7483 - recall_m: 0.7018\n",
            "Epoch 14/55\n",
            "90/90 [==============================] - 62s 687ms/step - loss: 0.6160 - accuracy: 0.7581 - f1_m: 0.7465 - precision_m: 0.7727 - recall_m: 0.7230\n",
            "Epoch 15/55\n",
            "90/90 [==============================] - 64s 710ms/step - loss: 0.6396 - accuracy: 0.7400 - f1_m: 0.7363 - precision_m: 0.7601 - recall_m: 0.7148\n",
            "Epoch 16/55\n",
            "90/90 [==============================] - 62s 683ms/step - loss: 0.6396 - accuracy: 0.7372 - f1_m: 0.7313 - precision_m: 0.7565 - recall_m: 0.7086\n",
            "Epoch 17/55\n",
            "90/90 [==============================] - 63s 695ms/step - loss: 0.6059 - accuracy: 0.7522 - f1_m: 0.7511 - precision_m: 0.7730 - recall_m: 0.7309\n",
            "Epoch 18/55\n",
            "90/90 [==============================] - 63s 699ms/step - loss: 0.5586 - accuracy: 0.7669 - f1_m: 0.7616 - precision_m: 0.7849 - recall_m: 0.7403\n",
            "Epoch 19/55\n",
            "90/90 [==============================] - 63s 695ms/step - loss: 0.5626 - accuracy: 0.7753 - f1_m: 0.7699 - precision_m: 0.7926 - recall_m: 0.7490\n",
            "Epoch 20/55\n",
            "90/90 [==============================] - 63s 692ms/step - loss: 0.5893 - accuracy: 0.7599 - f1_m: 0.7509 - precision_m: 0.7792 - recall_m: 0.7258\n",
            "Epoch 21/55\n",
            "90/90 [==============================] - 62s 681ms/step - loss: 0.5586 - accuracy: 0.7756 - f1_m: 0.7653 - precision_m: 0.7894 - recall_m: 0.7433\n",
            "Epoch 22/55\n",
            "90/90 [==============================] - 63s 701ms/step - loss: 0.5462 - accuracy: 0.7774 - f1_m: 0.7724 - precision_m: 0.7902 - recall_m: 0.7560\n",
            "Epoch 23/55\n",
            "90/90 [==============================] - 63s 699ms/step - loss: 0.5277 - accuracy: 0.7805 - f1_m: 0.7766 - precision_m: 0.7985 - recall_m: 0.7567\n",
            "Epoch 24/55\n",
            "90/90 [==============================] - 63s 693ms/step - loss: 0.5179 - accuracy: 0.7896 - f1_m: 0.7807 - precision_m: 0.8032 - recall_m: 0.7603\n",
            "Epoch 25/55\n",
            "90/90 [==============================] - 64s 704ms/step - loss: 0.5138 - accuracy: 0.7903 - f1_m: 0.7866 - precision_m: 0.8049 - recall_m: 0.7697\n",
            "Epoch 26/55\n",
            "90/90 [==============================] - 62s 687ms/step - loss: 0.5040 - accuracy: 0.8053 - f1_m: 0.8016 - precision_m: 0.8191 - recall_m: 0.7853\n",
            "Epoch 27/55\n",
            "90/90 [==============================] - 63s 690ms/step - loss: 0.4956 - accuracy: 0.8001 - f1_m: 0.7957 - precision_m: 0.8170 - recall_m: 0.7761\n",
            "Epoch 28/55\n",
            "90/90 [==============================] - 64s 704ms/step - loss: 0.4923 - accuracy: 0.8095 - f1_m: 0.8049 - precision_m: 0.8219 - recall_m: 0.7891\n",
            "Epoch 29/55\n",
            "90/90 [==============================] - 63s 697ms/step - loss: 0.4965 - accuracy: 0.7941 - f1_m: 0.7934 - precision_m: 0.8098 - recall_m: 0.7782\n",
            "Epoch 30/55\n",
            "90/90 [==============================] - 63s 693ms/step - loss: 0.4624 - accuracy: 0.8106 - f1_m: 0.8104 - precision_m: 0.8287 - recall_m: 0.7936\n",
            "Epoch 31/55\n",
            "90/90 [==============================] - 64s 704ms/step - loss: 0.4598 - accuracy: 0.8109 - f1_m: 0.8104 - precision_m: 0.8282 - recall_m: 0.7937\n",
            "Epoch 32/55\n",
            "90/90 [==============================] - 63s 691ms/step - loss: 0.4601 - accuracy: 0.8158 - f1_m: 0.8122 - precision_m: 0.8291 - recall_m: 0.7964\n",
            "Epoch 33/55\n",
            "90/90 [==============================] - 63s 699ms/step - loss: 0.4315 - accuracy: 0.8182 - f1_m: 0.8175 - precision_m: 0.8342 - recall_m: 0.8021\n",
            "Epoch 34/55\n",
            "90/90 [==============================] - 63s 694ms/step - loss: 0.4212 - accuracy: 0.8319 - f1_m: 0.8296 - precision_m: 0.8464 - recall_m: 0.8140\n",
            "Epoch 35/55\n",
            "90/90 [==============================] - 63s 698ms/step - loss: 0.4597 - accuracy: 0.8203 - f1_m: 0.8151 - precision_m: 0.8311 - recall_m: 0.8002\n",
            "Epoch 36/55\n",
            "90/90 [==============================] - 63s 697ms/step - loss: 0.4057 - accuracy: 0.8399 - f1_m: 0.8365 - precision_m: 0.8516 - recall_m: 0.8224\n",
            "Epoch 37/55\n",
            "90/90 [==============================] - 63s 695ms/step - loss: 0.4027 - accuracy: 0.8340 - f1_m: 0.8346 - precision_m: 0.8464 - recall_m: 0.8235\n",
            "Epoch 38/55\n",
            "90/90 [==============================] - 61s 678ms/step - loss: 0.4263 - accuracy: 0.8242 - f1_m: 0.8240 - precision_m: 0.8382 - recall_m: 0.8106\n",
            "Epoch 39/55\n",
            "90/90 [==============================] - 64s 708ms/step - loss: 0.3988 - accuracy: 0.8434 - f1_m: 0.8406 - precision_m: 0.8551 - recall_m: 0.8270\n",
            "Epoch 40/55\n",
            "90/90 [==============================] - 62s 678ms/step - loss: 0.4101 - accuracy: 0.8375 - f1_m: 0.8333 - precision_m: 0.8482 - recall_m: 0.8195\n",
            "Epoch 41/55\n",
            "90/90 [==============================] - 63s 696ms/step - loss: 0.4174 - accuracy: 0.8364 - f1_m: 0.8308 - precision_m: 0.8467 - recall_m: 0.8160\n",
            "Epoch 42/55\n",
            "90/90 [==============================] - 63s 695ms/step - loss: 0.3731 - accuracy: 0.8511 - f1_m: 0.8491 - precision_m: 0.8636 - recall_m: 0.8355\n",
            "Epoch 43/55\n",
            "90/90 [==============================] - 63s 697ms/step - loss: 0.3767 - accuracy: 0.8567 - f1_m: 0.8509 - precision_m: 0.8631 - recall_m: 0.8394\n",
            "Epoch 44/55\n",
            "90/90 [==============================] - 62s 686ms/step - loss: 0.3939 - accuracy: 0.8417 - f1_m: 0.8402 - precision_m: 0.8539 - recall_m: 0.8275\n",
            "Epoch 45/55\n",
            "90/90 [==============================] - 64s 711ms/step - loss: 0.3614 - accuracy: 0.8616 - f1_m: 0.8581 - precision_m: 0.8689 - recall_m: 0.8481\n",
            "Epoch 46/55\n",
            "90/90 [==============================] - 62s 685ms/step - loss: 0.3696 - accuracy: 0.8549 - f1_m: 0.8514 - precision_m: 0.8624 - recall_m: 0.8410\n",
            "Epoch 47/55\n",
            "90/90 [==============================] - 63s 693ms/step - loss: 0.3586 - accuracy: 0.8588 - f1_m: 0.8582 - precision_m: 0.8686 - recall_m: 0.8483\n",
            "Epoch 48/55\n",
            "90/90 [==============================] - 63s 690ms/step - loss: 0.3744 - accuracy: 0.8508 - f1_m: 0.8475 - precision_m: 0.8588 - recall_m: 0.8369\n",
            "Epoch 49/55\n",
            "90/90 [==============================] - 63s 693ms/step - loss: 0.3398 - accuracy: 0.8609 - f1_m: 0.8611 - precision_m: 0.8725 - recall_m: 0.8503\n",
            "Epoch 50/55\n",
            "90/90 [==============================] - 61s 679ms/step - loss: 0.3484 - accuracy: 0.8588 - f1_m: 0.8597 - precision_m: 0.8699 - recall_m: 0.8500\n",
            "Epoch 51/55\n",
            "90/90 [==============================] - 64s 708ms/step - loss: 0.3497 - accuracy: 0.8644 - f1_m: 0.8627 - precision_m: 0.8749 - recall_m: 0.8512\n",
            "Epoch 52/55\n",
            "90/90 [==============================] - 62s 681ms/step - loss: 0.3509 - accuracy: 0.8574 - f1_m: 0.8564 - precision_m: 0.8685 - recall_m: 0.8450\n",
            "Epoch 53/55\n",
            "90/90 [==============================] - 65s 719ms/step - loss: 0.3540 - accuracy: 0.8679 - f1_m: 0.8682 - precision_m: 0.8784 - recall_m: 0.8585\n",
            "Epoch 54/55\n",
            "90/90 [==============================] - 63s 695ms/step - loss: 0.3321 - accuracy: 0.8700 - f1_m: 0.8711 - precision_m: 0.8794 - recall_m: 0.8632\n",
            "Epoch 55/55\n",
            "90/90 [==============================] - 62s 688ms/step - loss: 0.3384 - accuracy: 0.8644 - f1_m: 0.8665 - precision_m: 0.8780 - recall_m: 0.8558\n"
          ]
        },
        {
          "output_type": "execute_result",
          "data": {
            "text/plain": [
              "<keras.callbacks.History at 0x7fa6a84b1520>"
            ]
          },
          "metadata": {},
          "execution_count": 16
        }
      ]
    },
    {
      "cell_type": "code",
      "execution_count": null,
      "metadata": {
        "id": "tmRskeQfn8kX"
      },
      "outputs": [],
      "source": [
        "#guardamos en una carpeta los pesos y la estructura del modelo\n",
        "target_dir = ('/content/drive/MyDrive/SIS360/modelo')\n",
        "if not os.path.exists(target_dir):\n",
        "  os.mkdir(target_dir)\n",
        "cnn.save('/content/drive/MyDrive/SIS360/modelo/modelo.h5')\n",
        "cnn.save_weights('/content/drive/MyDrive/SIS360/modelo/pesos.h5')"
      ]
    },
    {
      "cell_type": "code",
      "source": [
        "# se instala tensorflowjs para exportar el modelo y poderlo usar en una página web\n",
        "!pip install tensorflowjs"
      ],
      "metadata": {
        "id": "NWpnqt7kjB06",
        "colab": {
          "base_uri": "https://localhost:8080/"
        },
        "outputId": "823f26df-9b68-4c77-f672-23f4c97ad490"
      },
      "execution_count": null,
      "outputs": [
        {
          "output_type": "stream",
          "name": "stdout",
          "text": [
            "Looking in indexes: https://pypi.org/simple, https://us-python.pkg.dev/colab-wheels/public/simple/\n",
            "Collecting tensorflowjs\n",
            "  Downloading tensorflowjs-4.2.0-py3-none-any.whl (84 kB)\n",
            "\u001b[2K     \u001b[90m━━━━━━━━━━━━━━━━━━━━━━━━━━━━━━━━━━━━━━━━\u001b[0m \u001b[32m84.5/84.5 KB\u001b[0m \u001b[31m9.4 MB/s\u001b[0m eta \u001b[36m0:00:00\u001b[0m\n",
            "\u001b[?25hCollecting tensorflow-decision-forests>=1.0.1\n",
            "  Downloading tensorflow_decision_forests-1.2.0-cp38-cp38-manylinux_2_17_x86_64.manylinux2014_x86_64.whl (16.5 MB)\n",
            "\u001b[2K     \u001b[90m━━━━━━━━━━━━━━━━━━━━━━━━━━━━━━━━━━━━━━━━\u001b[0m \u001b[32m16.5/16.5 MB\u001b[0m \u001b[31m75.4 MB/s\u001b[0m eta \u001b[36m0:00:00\u001b[0m\n",
            "\u001b[?25hRequirement already satisfied: jax>=0.3.16 in /usr/local/lib/python3.8/dist-packages (from tensorflowjs) (0.3.25)\n",
            "Requirement already satisfied: importlib_resources>=5.9.0 in /usr/local/lib/python3.8/dist-packages (from tensorflowjs) (5.10.2)\n",
            "Requirement already satisfied: protobuf<3.20,>=3.9.2 in /usr/local/lib/python3.8/dist-packages (from tensorflowjs) (3.19.6)\n",
            "Requirement already satisfied: six<2,>=1.12.0 in /usr/local/lib/python3.8/dist-packages (from tensorflowjs) (1.15.0)\n",
            "Collecting tensorflow<3,>=2.10.0\n",
            "  Downloading tensorflow-2.11.0-cp38-cp38-manylinux_2_17_x86_64.manylinux2014_x86_64.whl (588.3 MB)\n",
            "\u001b[2K     \u001b[90m━━━━━━━━━━━━━━━━━━━━━━━━━━━━━━━━━━━━━━━\u001b[0m \u001b[32m588.3/588.3 MB\u001b[0m \u001b[31m2.3 MB/s\u001b[0m eta \u001b[36m0:00:00\u001b[0m\n",
            "\u001b[?25hCollecting packaging~=20.9\n",
            "  Downloading packaging-20.9-py2.py3-none-any.whl (40 kB)\n",
            "\u001b[2K     \u001b[90m━━━━━━━━━━━━━━━━━━━━━━━━━━━━━━━━━━━━━━━━\u001b[0m \u001b[32m40.9/40.9 KB\u001b[0m \u001b[31m4.1 MB/s\u001b[0m eta \u001b[36m0:00:00\u001b[0m\n",
            "\u001b[?25hCollecting flax>=0.6.2\n",
            "  Downloading flax-0.6.4-py3-none-any.whl (204 kB)\n",
            "\u001b[2K     \u001b[90m━━━━━━━━━━━━━━━━━━━━━━━━━━━━━━━━━━━━━━\u001b[0m \u001b[32m204.3/204.3 KB\u001b[0m \u001b[31m25.4 MB/s\u001b[0m eta \u001b[36m0:00:00\u001b[0m\n",
            "\u001b[?25hRequirement already satisfied: tensorflow-hub<0.13,>=0.7.0 in /usr/local/lib/python3.8/dist-packages (from tensorflowjs) (0.12.0)\n",
            "Requirement already satisfied: matplotlib in /usr/local/lib/python3.8/dist-packages (from flax>=0.6.2->tensorflowjs) (3.2.2)\n",
            "Collecting rich>=11.1\n",
            "  Downloading rich-13.3.1-py3-none-any.whl (239 kB)\n",
            "\u001b[2K     \u001b[90m━━━━━━━━━━━━━━━━━━━━━━━━━━━━━━━━━━━━━━\u001b[0m \u001b[32m239.0/239.0 KB\u001b[0m \u001b[31m23.4 MB/s\u001b[0m eta \u001b[36m0:00:00\u001b[0m\n",
            "\u001b[?25hCollecting optax\n",
            "  Downloading optax-0.1.4-py3-none-any.whl (154 kB)\n",
            "\u001b[2K     \u001b[90m━━━━━━━━━━━━━━━━━━━━━━━━━━━━━━━━━━━━━━\u001b[0m \u001b[32m154.9/154.9 KB\u001b[0m \u001b[31m11.8 MB/s\u001b[0m eta \u001b[36m0:00:00\u001b[0m\n",
            "\u001b[?25hCollecting orbax\n",
            "  Downloading orbax-0.1.1-py3-none-any.whl (70 kB)\n",
            "\u001b[2K     \u001b[90m━━━━━━━━━━━━━━━━━━━━━━━━━━━━━━━━━━━━━━━━\u001b[0m \u001b[32m70.6/70.6 KB\u001b[0m \u001b[31m9.1 MB/s\u001b[0m eta \u001b[36m0:00:00\u001b[0m\n",
            "\u001b[?25hRequirement already satisfied: PyYAML>=5.4.1 in /usr/local/lib/python3.8/dist-packages (from flax>=0.6.2->tensorflowjs) (6.0)\n",
            "Requirement already satisfied: numpy>=1.12 in /usr/local/lib/python3.8/dist-packages (from flax>=0.6.2->tensorflowjs) (1.21.6)\n",
            "Collecting tensorstore\n",
            "  Downloading tensorstore-0.1.31-cp38-cp38-manylinux_2_17_x86_64.manylinux2014_x86_64.whl (8.3 MB)\n",
            "\u001b[2K     \u001b[90m━━━━━━━━━━━━━━━━━━━━━━━━━━━━━━━━━━━━━━━━\u001b[0m \u001b[32m8.3/8.3 MB\u001b[0m \u001b[31m98.2 MB/s\u001b[0m eta \u001b[36m0:00:00\u001b[0m\n",
            "\u001b[?25hRequirement already satisfied: typing-extensions>=4.1.1 in /usr/local/lib/python3.8/dist-packages (from flax>=0.6.2->tensorflowjs) (4.4.0)\n",
            "Requirement already satisfied: msgpack in /usr/local/lib/python3.8/dist-packages (from flax>=0.6.2->tensorflowjs) (1.0.4)\n",
            "Requirement already satisfied: zipp>=3.1.0 in /usr/local/lib/python3.8/dist-packages (from importlib_resources>=5.9.0->tensorflowjs) (3.12.0)\n",
            "Requirement already satisfied: opt-einsum in /usr/local/lib/python3.8/dist-packages (from jax>=0.3.16->tensorflowjs) (3.3.0)\n",
            "Requirement already satisfied: scipy>=1.5 in /usr/local/lib/python3.8/dist-packages (from jax>=0.3.16->tensorflowjs) (1.7.3)\n",
            "Requirement already satisfied: pyparsing>=2.0.2 in /usr/local/lib/python3.8/dist-packages (from packaging~=20.9->tensorflowjs) (3.0.9)\n",
            "Requirement already satisfied: wrapt>=1.11.0 in /usr/local/lib/python3.8/dist-packages (from tensorflow<3,>=2.10.0->tensorflowjs) (1.14.1)\n",
            "Requirement already satisfied: google-pasta>=0.1.1 in /usr/local/lib/python3.8/dist-packages (from tensorflow<3,>=2.10.0->tensorflowjs) (0.2.0)\n",
            "Requirement already satisfied: astunparse>=1.6.0 in /usr/local/lib/python3.8/dist-packages (from tensorflow<3,>=2.10.0->tensorflowjs) (1.6.3)\n",
            "Collecting tensorboard<2.12,>=2.11\n",
            "  Downloading tensorboard-2.11.2-py3-none-any.whl (6.0 MB)\n",
            "\u001b[2K     \u001b[90m━━━━━━━━━━━━━━━━━━━━━━━━━━━━━━━━━━━━━━━━\u001b[0m \u001b[32m6.0/6.0 MB\u001b[0m \u001b[31m42.3 MB/s\u001b[0m eta \u001b[36m0:00:00\u001b[0m\n",
            "\u001b[?25hRequirement already satisfied: grpcio<2.0,>=1.24.3 in /usr/local/lib/python3.8/dist-packages (from tensorflow<3,>=2.10.0->tensorflowjs) (1.51.1)\n",
            "Requirement already satisfied: h5py>=2.9.0 in /usr/local/lib/python3.8/dist-packages (from tensorflow<3,>=2.10.0->tensorflowjs) (3.1.0)\n",
            "Collecting tensorflow-estimator<2.12,>=2.11.0\n",
            "  Downloading tensorflow_estimator-2.11.0-py2.py3-none-any.whl (439 kB)\n",
            "\u001b[2K     \u001b[90m━━━━━━━━━━━━━━━━━━━━━━━━━━━━━━━━━━━━━━\u001b[0m \u001b[32m439.2/439.2 KB\u001b[0m \u001b[31m27.0 MB/s\u001b[0m eta \u001b[36m0:00:00\u001b[0m\n",
            "\u001b[?25hRequirement already satisfied: absl-py>=1.0.0 in /usr/local/lib/python3.8/dist-packages (from tensorflow<3,>=2.10.0->tensorflowjs) (1.4.0)\n",
            "Requirement already satisfied: libclang>=13.0.0 in /usr/local/lib/python3.8/dist-packages (from tensorflow<3,>=2.10.0->tensorflowjs) (15.0.6.1)\n",
            "Requirement already satisfied: termcolor>=1.1.0 in /usr/local/lib/python3.8/dist-packages (from tensorflow<3,>=2.10.0->tensorflowjs) (2.2.0)\n",
            "Collecting flatbuffers>=2.0\n",
            "  Downloading flatbuffers-23.1.21-py2.py3-none-any.whl (26 kB)\n",
            "Requirement already satisfied: tensorflow-io-gcs-filesystem>=0.23.1 in /usr/local/lib/python3.8/dist-packages (from tensorflow<3,>=2.10.0->tensorflowjs) (0.30.0)\n",
            "Collecting keras<2.12,>=2.11.0\n",
            "  Downloading keras-2.11.0-py2.py3-none-any.whl (1.7 MB)\n",
            "\u001b[2K     \u001b[90m━━━━━━━━━━━━━━━━━━━━━━━━━━━━━━━━━━━━━━━━\u001b[0m \u001b[32m1.7/1.7 MB\u001b[0m \u001b[31m30.7 MB/s\u001b[0m eta \u001b[36m0:00:00\u001b[0m\n",
            "\u001b[?25hRequirement already satisfied: setuptools in /usr/local/lib/python3.8/dist-packages (from tensorflow<3,>=2.10.0->tensorflowjs) (57.4.0)\n",
            "Requirement already satisfied: gast<=0.4.0,>=0.2.1 in /usr/local/lib/python3.8/dist-packages (from tensorflow<3,>=2.10.0->tensorflowjs) (0.4.0)\n",
            "Requirement already satisfied: wheel in /usr/local/lib/python3.8/dist-packages (from tensorflow-decision-forests>=1.0.1->tensorflowjs) (0.38.4)\n",
            "Requirement already satisfied: pandas in /usr/local/lib/python3.8/dist-packages (from tensorflow-decision-forests>=1.0.1->tensorflowjs) (1.3.5)\n",
            "Collecting wurlitzer\n",
            "  Downloading wurlitzer-3.0.3-py3-none-any.whl (7.3 kB)\n",
            "Collecting markdown-it-py<3.0.0,>=2.1.0\n",
            "  Downloading markdown_it_py-2.1.0-py3-none-any.whl (84 kB)\n",
            "\u001b[2K     \u001b[90m━━━━━━━━━━━━━━━━━━━━━━━━━━━━━━━━━━━━━━━━\u001b[0m \u001b[32m84.5/84.5 KB\u001b[0m \u001b[31m8.9 MB/s\u001b[0m eta \u001b[36m0:00:00\u001b[0m\n",
            "\u001b[?25hCollecting pygments<3.0.0,>=2.14.0\n",
            "  Downloading Pygments-2.14.0-py3-none-any.whl (1.1 MB)\n",
            "\u001b[2K     \u001b[90m━━━━━━━━━━━━━━━━━━━━━━━━━━━━━━━━━━━━━━━━\u001b[0m \u001b[32m1.1/1.1 MB\u001b[0m \u001b[31m63.4 MB/s\u001b[0m eta \u001b[36m0:00:00\u001b[0m\n",
            "\u001b[?25hRequirement already satisfied: tensorboard-data-server<0.7.0,>=0.6.0 in /usr/local/lib/python3.8/dist-packages (from tensorboard<2.12,>=2.11->tensorflow<3,>=2.10.0->tensorflowjs) (0.6.1)\n",
            "Requirement already satisfied: werkzeug>=1.0.1 in /usr/local/lib/python3.8/dist-packages (from tensorboard<2.12,>=2.11->tensorflow<3,>=2.10.0->tensorflowjs) (1.0.1)\n",
            "Requirement already satisfied: tensorboard-plugin-wit>=1.6.0 in /usr/local/lib/python3.8/dist-packages (from tensorboard<2.12,>=2.11->tensorflow<3,>=2.10.0->tensorflowjs) (1.8.1)\n",
            "Requirement already satisfied: requests<3,>=2.21.0 in /usr/local/lib/python3.8/dist-packages (from tensorboard<2.12,>=2.11->tensorflow<3,>=2.10.0->tensorflowjs) (2.25.1)\n",
            "Requirement already satisfied: markdown>=2.6.8 in /usr/local/lib/python3.8/dist-packages (from tensorboard<2.12,>=2.11->tensorflow<3,>=2.10.0->tensorflowjs) (3.4.1)\n",
            "Requirement already satisfied: google-auth<3,>=1.6.3 in /usr/local/lib/python3.8/dist-packages (from tensorboard<2.12,>=2.11->tensorflow<3,>=2.10.0->tensorflowjs) (2.16.0)\n",
            "Requirement already satisfied: google-auth-oauthlib<0.5,>=0.4.1 in /usr/local/lib/python3.8/dist-packages (from tensorboard<2.12,>=2.11->tensorflow<3,>=2.10.0->tensorflowjs) (0.4.6)\n",
            "Requirement already satisfied: kiwisolver>=1.0.1 in /usr/local/lib/python3.8/dist-packages (from matplotlib->flax>=0.6.2->tensorflowjs) (1.4.4)\n",
            "Requirement already satisfied: cycler>=0.10 in /usr/local/lib/python3.8/dist-packages (from matplotlib->flax>=0.6.2->tensorflowjs) (0.11.0)\n",
            "Requirement already satisfied: python-dateutil>=2.1 in /usr/local/lib/python3.8/dist-packages (from matplotlib->flax>=0.6.2->tensorflowjs) (2.8.2)\n",
            "Requirement already satisfied: jaxlib>=0.1.37 in /usr/local/lib/python3.8/dist-packages (from optax->flax>=0.6.2->tensorflowjs) (0.3.25+cuda11.cudnn805)\n",
            "Collecting chex>=0.1.5\n",
            "  Downloading chex-0.1.6-py3-none-any.whl (87 kB)\n",
            "\u001b[2K     \u001b[90m━━━━━━━━━━━━━━━━━━━━━━━━━━━━━━━━━━━━━━━━\u001b[0m \u001b[32m87.9/87.9 KB\u001b[0m \u001b[31m12.0 MB/s\u001b[0m eta \u001b[36m0:00:00\u001b[0m\n",
            "\u001b[?25hCollecting cached_property\n",
            "  Downloading cached_property-1.5.2-py2.py3-none-any.whl (7.6 kB)\n",
            "Requirement already satisfied: etils in /usr/local/lib/python3.8/dist-packages (from orbax->flax>=0.6.2->tensorflowjs) (1.0.0)\n",
            "Requirement already satisfied: pytz>=2017.3 in /usr/local/lib/python3.8/dist-packages (from pandas->tensorflow-decision-forests>=1.0.1->tensorflowjs) (2022.7.1)\n",
            "Requirement already satisfied: dm-tree>=0.1.5 in /usr/local/lib/python3.8/dist-packages (from chex>=0.1.5->optax->flax>=0.6.2->tensorflowjs) (0.1.8)\n",
            "Requirement already satisfied: toolz>=0.9.0 in /usr/local/lib/python3.8/dist-packages (from chex>=0.1.5->optax->flax>=0.6.2->tensorflowjs) (0.12.0)\n",
            "Requirement already satisfied: pyasn1-modules>=0.2.1 in /usr/local/lib/python3.8/dist-packages (from google-auth<3,>=1.6.3->tensorboard<2.12,>=2.11->tensorflow<3,>=2.10.0->tensorflowjs) (0.2.8)\n",
            "Requirement already satisfied: cachetools<6.0,>=2.0.0 in /usr/local/lib/python3.8/dist-packages (from google-auth<3,>=1.6.3->tensorboard<2.12,>=2.11->tensorflow<3,>=2.10.0->tensorflowjs) (5.3.0)\n",
            "Requirement already satisfied: rsa<5,>=3.1.4 in /usr/local/lib/python3.8/dist-packages (from google-auth<3,>=1.6.3->tensorboard<2.12,>=2.11->tensorflow<3,>=2.10.0->tensorflowjs) (4.9)\n",
            "Requirement already satisfied: requests-oauthlib>=0.7.0 in /usr/local/lib/python3.8/dist-packages (from google-auth-oauthlib<0.5,>=0.4.1->tensorboard<2.12,>=2.11->tensorflow<3,>=2.10.0->tensorflowjs) (1.3.1)\n",
            "Requirement already satisfied: importlib-metadata>=4.4 in /usr/local/lib/python3.8/dist-packages (from markdown>=2.6.8->tensorboard<2.12,>=2.11->tensorflow<3,>=2.10.0->tensorflowjs) (6.0.0)\n",
            "Collecting mdurl~=0.1\n",
            "  Downloading mdurl-0.1.2-py3-none-any.whl (10.0 kB)\n",
            "Requirement already satisfied: chardet<5,>=3.0.2 in /usr/local/lib/python3.8/dist-packages (from requests<3,>=2.21.0->tensorboard<2.12,>=2.11->tensorflow<3,>=2.10.0->tensorflowjs) (4.0.0)\n",
            "Requirement already satisfied: idna<3,>=2.5 in /usr/local/lib/python3.8/dist-packages (from requests<3,>=2.21.0->tensorboard<2.12,>=2.11->tensorflow<3,>=2.10.0->tensorflowjs) (2.10)\n",
            "Requirement already satisfied: certifi>=2017.4.17 in /usr/local/lib/python3.8/dist-packages (from requests<3,>=2.21.0->tensorboard<2.12,>=2.11->tensorflow<3,>=2.10.0->tensorflowjs) (2022.12.7)\n",
            "Requirement already satisfied: urllib3<1.27,>=1.21.1 in /usr/local/lib/python3.8/dist-packages (from requests<3,>=2.21.0->tensorboard<2.12,>=2.11->tensorflow<3,>=2.10.0->tensorflowjs) (1.24.3)\n",
            "Requirement already satisfied: pyasn1<0.5.0,>=0.4.6 in /usr/local/lib/python3.8/dist-packages (from pyasn1-modules>=0.2.1->google-auth<3,>=1.6.3->tensorboard<2.12,>=2.11->tensorflow<3,>=2.10.0->tensorflowjs) (0.4.8)\n",
            "Requirement already satisfied: oauthlib>=3.0.0 in /usr/local/lib/python3.8/dist-packages (from requests-oauthlib>=0.7.0->google-auth-oauthlib<0.5,>=0.4.1->tensorboard<2.12,>=2.11->tensorflow<3,>=2.10.0->tensorflowjs) (3.2.2)\n",
            "Installing collected packages: flatbuffers, cached_property, wurlitzer, tensorstore, tensorflow-estimator, pygments, packaging, mdurl, keras, markdown-it-py, rich, chex, tensorboard, optax, tensorflow, tensorflow-decision-forests, orbax, flax, tensorflowjs\n",
            "  Attempting uninstall: flatbuffers\n",
            "    Found existing installation: flatbuffers 1.12\n",
            "    Uninstalling flatbuffers-1.12:\n",
            "      Successfully uninstalled flatbuffers-1.12\n",
            "  Attempting uninstall: tensorflow-estimator\n",
            "    Found existing installation: tensorflow-estimator 2.9.0\n",
            "    Uninstalling tensorflow-estimator-2.9.0:\n",
            "      Successfully uninstalled tensorflow-estimator-2.9.0\n",
            "  Attempting uninstall: pygments\n",
            "    Found existing installation: Pygments 2.6.1\n",
            "    Uninstalling Pygments-2.6.1:\n",
            "      Successfully uninstalled Pygments-2.6.1\n",
            "  Attempting uninstall: packaging\n",
            "    Found existing installation: packaging 23.0\n",
            "    Uninstalling packaging-23.0:\n",
            "      Successfully uninstalled packaging-23.0\n",
            "  Attempting uninstall: keras\n",
            "    Found existing installation: keras 2.9.0\n",
            "    Uninstalling keras-2.9.0:\n",
            "      Successfully uninstalled keras-2.9.0\n",
            "  Attempting uninstall: tensorboard\n",
            "    Found existing installation: tensorboard 2.9.1\n",
            "    Uninstalling tensorboard-2.9.1:\n",
            "      Successfully uninstalled tensorboard-2.9.1\n",
            "  Attempting uninstall: tensorflow\n",
            "    Found existing installation: tensorflow 2.9.2\n",
            "    Uninstalling tensorflow-2.9.2:\n",
            "      Successfully uninstalled tensorflow-2.9.2\n",
            "\u001b[31mERROR: pip's dependency resolver does not currently take into account all the packages that are installed. This behaviour is the source of the following dependency conflicts.\n",
            "ipython 7.9.0 requires jedi>=0.10, which is not installed.\n",
            "xarray 2022.12.0 requires packaging>=21.3, but you have packaging 20.9 which is incompatible.\u001b[0m\u001b[31m\n",
            "\u001b[0mSuccessfully installed cached_property-1.5.2 chex-0.1.6 flatbuffers-23.1.21 flax-0.6.4 keras-2.11.0 markdown-it-py-2.1.0 mdurl-0.1.2 optax-0.1.4 orbax-0.1.1 packaging-20.9 pygments-2.14.0 rich-13.3.1 tensorboard-2.11.2 tensorflow-2.11.0 tensorflow-decision-forests-1.2.0 tensorflow-estimator-2.11.0 tensorflowjs-4.2.0 tensorstore-0.1.31 wurlitzer-3.0.3\n"
          ]
        }
      ]
    },
    {
      "cell_type": "code",
      "source": [
        "# crear carpeta de salida para exportar a js\n",
        "\n",
        "target_dir1 = ('/content/drive/MyDrive/carpeta_salida')\n",
        "if not os.path.exists(target_dir1):\n",
        "  os.mkdir(target_dir1)\n"
      ],
      "metadata": {
        "id": "Wt5BRNi2jeD2"
      },
      "execution_count": null,
      "outputs": []
    },
    {
      "cell_type": "code",
      "source": [
        "# realizamos la exportación a la carpeta de salida \n",
        "!tensorflowjs_converter --input_format keras /content/drive/MyDrive/SIS360/modelo/modelo.h5 /content/drive/MyDrive/carpeta_salida"
      ],
      "metadata": {
        "id": "uiORKGtkjz-o",
        "colab": {
          "base_uri": "https://localhost:8080/"
        },
        "outputId": "cdfc20f9-b94c-4f2b-93e2-e53ba93e1e6d"
      },
      "execution_count": null,
      "outputs": [
        {
          "output_type": "stream",
          "name": "stdout",
          "text": [
            "2023-02-09 00:34:14.971838: W tensorflow/compiler/xla/stream_executor/platform/default/dso_loader.cc:64] Could not load dynamic library 'libnvinfer.so.7'; dlerror: libnvinfer.so.7: cannot open shared object file: No such file or directory; LD_LIBRARY_PATH: /usr/lib64-nvidia\n",
            "2023-02-09 00:34:14.971994: W tensorflow/compiler/xla/stream_executor/platform/default/dso_loader.cc:64] Could not load dynamic library 'libnvinfer_plugin.so.7'; dlerror: libnvinfer_plugin.so.7: cannot open shared object file: No such file or directory; LD_LIBRARY_PATH: /usr/lib64-nvidia\n",
            "2023-02-09 00:34:14.972014: W tensorflow/compiler/tf2tensorrt/utils/py_utils.cc:38] TF-TRT Warning: Cannot dlopen some TensorRT libraries. If you would like to use Nvidia GPU with TensorRT, please make sure the missing libraries mentioned above are installed properly.\n"
          ]
        }
      ]
    },
    {
      "cell_type": "code",
      "source": [
        "#confirmamos que se haya realizado\n",
        "\n",
        "!ls carpeta_salida "
      ],
      "metadata": {
        "id": "JlpLlQOQkveS",
        "colab": {
          "base_uri": "https://localhost:8080/"
        },
        "outputId": "245055f3-c6be-473e-d281-b7694421abb5"
      },
      "execution_count": null,
      "outputs": [
        {
          "output_type": "stream",
          "name": "stdout",
          "text": [
            "ls: cannot access 'carpeta_salida': No such file or directory\n"
          ]
        }
      ]
    }
  ],
  "metadata": {
    "colab": {
      "provenance": []
    },
    "kernelspec": {
      "display_name": "Python 3",
      "language": "python",
      "name": "python3"
    },
    "language_info": {
      "name": "python",
      "version": "3.10.9"
    },
    "vscode": {
      "interpreter": {
        "hash": "306aa867297de82aac029bd26a57bc10dd967c1e72c8d7ffd239ccc0904e07fd"
      }
    },
    "accelerator": "GPU",
    "gpuClass": "standard"
  },
  "nbformat": 4,
  "nbformat_minor": 0
}